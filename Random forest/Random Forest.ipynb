{
 "cells": [
  {
   "cell_type": "markdown",
   "metadata": {},
   "source": [
    "## Bagging with Random Attribute Selection"
   ]
  },
  {
   "cell_type": "code",
   "execution_count": 1,
   "metadata": {},
   "outputs": [],
   "source": [
    "import urllib.request, urllib.error, urllib.parse\n",
    "import numpy\n",
    "from sklearn import tree\n",
    "from sklearn.tree import DecisionTreeRegressor\n",
    "import random\n",
    "from math import sqrt\n",
    "import matplotlib.pyplot as plot"
   ]
  },
  {
   "cell_type": "code",
   "execution_count": 2,
   "metadata": {},
   "outputs": [],
   "source": [
    "#read data into iterable\n",
    "target_url = \"http://archive.ics.uci.edu/ml/machine-learning-databases/wine-quality/winequality-red.csv\"\n",
    "data = urllib.request.urlopen(target_url)\n",
    "\n",
    "xList = []\n",
    "labels = []\n",
    "names = []\n",
    "firstLine = True\n",
    "for line in data:\n",
    "    if firstLine:\n",
    "        names = line.decode().strip().split(\";\")\n",
    "        firstLine = False\n",
    "    else:\n",
    "        #split on semi-colon\n",
    "        row = line.decode().strip().split(\";\")\n",
    "        #put labels in separate array\n",
    "        labels.append(float(row[-1]))\n",
    "        #remove label from row\n",
    "        row.pop()\n",
    "        #convert row to floats\n",
    "        floatRow = [float(num) for num in row]\n",
    "        xList.append(floatRow)\n",
    "\n",
    "nrows = len(xList)\n",
    "ncols = len(xList[0])"
   ]
  },
  {
   "cell_type": "code",
   "execution_count": 3,
   "metadata": {},
   "outputs": [],
   "source": [
    "#take fixed test set 30% of sample\n",
    "random.seed(1)  #set seed so results are the same each run\n",
    "nSample = int(nrows * 0.30)\n",
    "idxTest = random.sample(range(nrows), nSample)\n",
    "idxTest.sort()\n",
    "idxTrain = [idx for idx in range(nrows) if not(idx in idxTest)]\n",
    "\n",
    "#Define test and training attribute and label sets\n",
    "xTrain = [xList[r] for r in idxTrain]\n",
    "xTest = [xList[r] for r in idxTest]\n",
    "yTrain = [labels[r] for r in idxTrain]\n",
    "yTest = [labels[r] for r in idxTest]"
   ]
  },
  {
   "cell_type": "code",
   "execution_count": 4,
   "metadata": {},
   "outputs": [],
   "source": [
    "#train a series of models on random subsets of the training data\n",
    "#collect the models in a list and check error of composite as list grows\n",
    "\n",
    "#maximum number of models to generate\n",
    "numTreesMax = 30\n",
    "\n",
    "#tree depth - typically at the high end\n",
    "treeDepth = 12\n",
    "\n",
    "#pick how many attributes will be used in each model.\n",
    "# authors recommend 1/3 for regression problem\n",
    "nAttr = 4\n",
    "\n",
    "#initialize a list to hold models\n",
    "modelList = []\n",
    "indexList = []\n",
    "predList = []\n",
    "nTrainRows = len(yTrain)\n",
    "\n",
    "for iTrees in range(numTreesMax):\n",
    "\n",
    "    modelList.append(DecisionTreeRegressor(max_depth=treeDepth))\n",
    "\n",
    "    #take random sample of attributes\n",
    "    idxAttr = random.sample(range(ncols), nAttr)\n",
    "    idxAttr.sort()\n",
    "    indexList.append(idxAttr)\n",
    "\n",
    "    #take a random sample of training rows\n",
    "    idxRows = []\n",
    "    for i in range(int(0.5 * nTrainRows)):\n",
    "        idxRows.append(random.choice(range(len(xTrain))))\n",
    "    idxRows.sort()\n",
    "\n",
    "    #build training set\n",
    "    xRfTrain = []\n",
    "    yRfTrain = []\n",
    "\n",
    "    for i in range(len(idxRows)):\n",
    "        temp = [xTrain[idxRows[i]][j] for j in idxAttr]\n",
    "        xRfTrain.append(temp)\n",
    "        yRfTrain.append(yTrain[idxRows[i]])\n",
    "\n",
    "    modelList[-1].fit(xRfTrain, yRfTrain)\n",
    "\n",
    "    #restrict xTest to attributes selected for training\n",
    "    xRfTest = []\n",
    "    for xx in xTest:\n",
    "        temp = [xx[i] for i in idxAttr]\n",
    "        xRfTest.append(temp)\n",
    "\n",
    "    latestOutSamplePrediction = modelList[-1].predict(xRfTest)\n",
    "    predList.append(list(latestOutSamplePrediction))"
   ]
  },
  {
   "cell_type": "code",
   "execution_count": 5,
   "metadata": {},
   "outputs": [
    {
     "data": {
      "image/png": "[encoded data removed]",
      "text/plain": [
       "<Figure size 432x288 with 1 Axes>"
      ]
     },
     "metadata": {
      "needs_background": "light"
     },
     "output_type": "display_data"
    },
    {
     "name": "stdout",
     "output_type": "stream",
     "text": [
      "Minimum MSE\n",
      "0.42028140817408133\n"
     ]
    }
   ],
   "source": [
    "#build cumulative prediction from first \"n\" models\n",
    "mse = []\n",
    "allPredictions = []\n",
    "for iModels in range(len(modelList)):\n",
    "\n",
    "    #add the first \"iModels\" of the predictions and multiply by eps\n",
    "    prediction = []\n",
    "    for iPred in range(len(xTest)):\n",
    "        prediction.append(sum([predList[i][iPred] for i in range(iModels + 1)]) / (iModels + 1))\n",
    "\n",
    "    allPredictions.append(prediction)\n",
    "    errors = [(yTest[i] - prediction[i]) for i in range(len(yTest))]\n",
    "    mse.append(sum([e * e for e in errors]) / len(yTest))\n",
    "\n",
    "\n",
    "nModels = [i + 1 for i in range(len(modelList))]\n",
    "\n",
    "plot.plot(nModels,mse)\n",
    "plot.axis('tight')\n",
    "plot.xlabel('Number of Trees in Ensemble')\n",
    "plot.ylabel('Mean Squared Error')\n",
    "plot.ylim((0.0, max(mse)))\n",
    "plot.show()\n",
    "\n",
    "print('Minimum MSE')\n",
    "print(min(mse))\n",
    "\n",
    "#printed output\n",
    "\n",
    "#Depth 1\n",
    "#Minimum MSE\n",
    "#0.52666715461\n",
    "\n",
    "#Depth 5\n",
    "#Minimum MSE\n",
    "#0.426116327584\n",
    "\n",
    "#Depth 12\n",
    "#Minimum MSE\n",
    "#0.38508387863"
   ]
  },
  {
   "cell_type": "code",
   "execution_count": null,
   "metadata": {},
   "outputs": [],
   "source": []
  }
 ],
 "metadata": {
  "kernelspec": {
   "display_name": "Python 3",
   "language": "python",
   "name": "python3"
  },
  "language_info": {
   "codemirror_mode": {
    "name": "ipython",
    "version": 3
   },
   "file_extension": ".py",
   "mimetype": "text/x-python",
   "name": "python",
   "nbconvert_exporter": "python",
   "pygments_lexer": "ipython3",
   "version": "3.7.3"
  }
 },
 "nbformat": 4,
 "nbformat_minor": 2
}
